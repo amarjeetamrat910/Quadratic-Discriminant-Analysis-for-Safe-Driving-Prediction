{
 "cells": [
  {
   "cell_type": "code",
   "execution_count": 20,
   "id": "3ab05318",
   "metadata": {},
   "outputs": [],
   "source": [
    "import numpy as np\n",
    "from sklearn.discriminant_analysis import QuadraticDiscriminantAnalysis  \n",
    "\n",
    "\n"
   ]
  },
  {
   "cell_type": "code",
   "execution_count": 21,
   "id": "2eff9d0a",
   "metadata": {},
   "outputs": [],
   "source": [
    "X = np.array([\n",
    "    [0, 0], [0, 500], [0, 1000], [0, 2000], [0, 5000], [0, 10000],\n",
    "    [10, 0], [10, 500], [10, 1000], [10, 2000], [10, 5000], [10, 10000],\n",
    "    [20, 0], [20, 500], [20, 1000], [20, 2000], [20, 5000], [20, 10000],\n",
    "    [30, 0], [30, 500], [30, 1000], [30, 2000], [30, 5000], [30, 10000],\n",
    "    [40, 0], [40, 500], [40, 1000], [40, 2000], [40, 5000], [40, 10000],\n",
    "    [50, 0], [50, 500], [50, 1000], [50, 2000], [50, 5000], [50, 10000],\n",
    "    [60, 0], [60, 500], [60, 1000], [60, 2000], [60, 5000], [60, 10000],\n",
    "    [70, 0], [70, 500], [70, 1000], [70, 2000], [70, 5000], [70, 10000],\n",
    "    [80, 0], [80, 500], [80, 1000], [80, 2000], [80, 5000], [80, 10000],\n",
    "    [90, 0], [90, 500], [90, 1000], [90, 2000], [90, 5000], [90, 10000],\n",
    "    [100, 0], [100, 500], [100, 1000], [100, 2000], [100, 5000], [100, 10000],\n",
    "    [110, 0], [110, 500], [110, 1000], [110, 2000], [110, 5000], [110, 10000],\n",
    "    [120, 0], [120, 500], [120, 1000], [120, 2000], [120, 5000], [120, 10000],\n",
    "])\n",
    "\n"
   ]
  },
  {
   "cell_type": "code",
   "execution_count": 22,
   "id": "879e0c82",
   "metadata": {},
   "outputs": [],
   "source": [
    "y = np.array([\n",
    "    1, 1, 1, 1, 0, 0,  # 0 km/h is safe regardless of density, but let's assume high density areas are more challenging\n",
    "    1, 1, 1, 1, 0, 0,  # 10 km/h is generally safe, unsafe at very high densities\n",
    "    1, 1, 1, 1, 0, 0,  # 20 km/h is generally safe, unsafe at very high densities\n",
    "    1, 1, 1, 1, 0, 0,  # 30 km/h is generally safe, unsafe at very high densities\n",
    "    1, 1, 1, 1, 0, 0,  # 40 km/h is generally safe, unsafe at very high densities\n",
    "    1, 1, 1, 1, 0, 0,  # 50 km/h is generally safe, unsafe at very high densities\n",
    "    1, 1, 1, 0, 0, 0,  # 60 km/h starts becoming unsafe at higher densities\n",
    "    1, 1, 0, 0, 0, 0,  # 70 km/h starts becoming unsafe at higher densities\n",
    "    1, 1, 0, 0, 0, 0,  # 80 km/h starts becoming unsafe at higher densities\n",
    "    1, 1, 0, 0, 0, 0,  # 90 km/h starts becoming unsafe at higher densities\n",
    "    1, 0, 0, 0, 0, 0,  # 100 km/h becomes unsafe at higher densities\n",
    "    0, 0, 0, 0, 0, 0,  # 110 km/h is generally unsafe\n",
    "    0, 0, 0, 0, 0, 0   # 120 km/h is generally unsafe\n",
    "])\n",
    "\n"
   ]
  },
  {
   "cell_type": "code",
   "execution_count": 23,
   "id": "88096870",
   "metadata": {},
   "outputs": [
    {
     "name": "stdout",
     "output_type": "stream",
     "text": [
      "For a speed limit of 10 and population density of 1000, it is safe to drive.\n"
     ]
    }
   ],
   "source": [
    "QDA = QuadraticDiscriminantAnalysis()\n",
    "QDA.fit(X, y)\n",
    "\n",
    "speed = 10\n",
    "population_density = 1000\n",
    "prediction = QDA.predict([[speed, population_density]])\n",
    "\n",
    "# \n",
    "if prediction == 1:\n",
    "    print(f\"For a speed limit of {speed} and population density of {population_density}, it is safe to drive.\")\n",
    "else:\n",
    "    print(f\"For a speed limit of {speed} and population density of {population_density}, it is not safe to drive.\")\n"
   ]
  },
  {
   "cell_type": "code",
   "execution_count": null,
   "id": "c3a0d913",
   "metadata": {},
   "outputs": [],
   "source": []
  },
  {
   "cell_type": "code",
   "execution_count": null,
   "id": "a37cd9df",
   "metadata": {},
   "outputs": [],
   "source": []
  },
  {
   "cell_type": "code",
   "execution_count": null,
   "id": "21b44913",
   "metadata": {},
   "outputs": [],
   "source": []
  },
  {
   "cell_type": "code",
   "execution_count": null,
   "id": "f05bf5d0",
   "metadata": {},
   "outputs": [],
   "source": []
  }
 ],
 "metadata": {
  "kernelspec": {
   "display_name": "Python 3 (ipykernel)",
   "language": "python",
   "name": "python3"
  },
  "language_info": {
   "codemirror_mode": {
    "name": "ipython",
    "version": 3
   },
   "file_extension": ".py",
   "mimetype": "text/x-python",
   "name": "python",
   "nbconvert_exporter": "python",
   "pygments_lexer": "ipython3",
   "version": "3.11.4"
  }
 },
 "nbformat": 4,
 "nbformat_minor": 5
}
